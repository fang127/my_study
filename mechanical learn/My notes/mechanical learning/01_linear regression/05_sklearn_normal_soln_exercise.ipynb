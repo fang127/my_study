{
 "cells": [
  {
   "cell_type": "code",
   "execution_count": 1,
   "id": "016ddafd",
   "metadata": {},
   "outputs": [],
   "source": [
    "import numpy as np\n",
    "import pandas as pd\n",
    "import matplotlib.pyplot as plt"
   ]
  },
  {
   "cell_type": "markdown",
   "id": "84b9ef8d",
   "metadata": {},
   "source": [
    "闭式解不需要归一化"
   ]
  },
  {
   "cell_type": "code",
   "execution_count": 2,
   "id": "98e4d23a",
   "metadata": {},
   "outputs": [
    {
     "data": {
      "text/html": [
       "<div>\n",
       "<style scoped>\n",
       "    .dataframe tbody tr th:only-of-type {\n",
       "        vertical-align: middle;\n",
       "    }\n",
       "\n",
       "    .dataframe tbody tr th {\n",
       "        vertical-align: top;\n",
       "    }\n",
       "\n",
       "    .dataframe thead th {\n",
       "        text-align: right;\n",
       "    }\n",
       "</style>\n",
       "<table border=\"1\" class=\"dataframe\">\n",
       "  <thead>\n",
       "    <tr style=\"text-align: right;\">\n",
       "      <th></th>\n",
       "      <th>ones</th>\n",
       "      <th>Size</th>\n",
       "      <th>Bedrooms</th>\n",
       "      <th>Prize</th>\n",
       "    </tr>\n",
       "  </thead>\n",
       "  <tbody>\n",
       "    <tr>\n",
       "      <th>0</th>\n",
       "      <td>1</td>\n",
       "      <td>2104</td>\n",
       "      <td>3</td>\n",
       "      <td>399900</td>\n",
       "    </tr>\n",
       "    <tr>\n",
       "      <th>1</th>\n",
       "      <td>1</td>\n",
       "      <td>1600</td>\n",
       "      <td>3</td>\n",
       "      <td>329900</td>\n",
       "    </tr>\n",
       "    <tr>\n",
       "      <th>2</th>\n",
       "      <td>1</td>\n",
       "      <td>2400</td>\n",
       "      <td>3</td>\n",
       "      <td>369000</td>\n",
       "    </tr>\n",
       "    <tr>\n",
       "      <th>3</th>\n",
       "      <td>1</td>\n",
       "      <td>1416</td>\n",
       "      <td>2</td>\n",
       "      <td>232000</td>\n",
       "    </tr>\n",
       "    <tr>\n",
       "      <th>4</th>\n",
       "      <td>1</td>\n",
       "      <td>3000</td>\n",
       "      <td>4</td>\n",
       "      <td>539900</td>\n",
       "    </tr>\n",
       "  </tbody>\n",
       "</table>\n",
       "</div>"
      ],
      "text/plain": [
       "   ones  Size  Bedrooms   Prize\n",
       "0     1  2104         3  399900\n",
       "1     1  1600         3  329900\n",
       "2     1  2400         3  369000\n",
       "3     1  1416         2  232000\n",
       "4     1  3000         4  539900"
      ]
     },
     "execution_count": 2,
     "metadata": {},
     "output_type": "execute_result"
    }
   ],
   "source": [
    "path = 'ex1data2.txt'\n",
    "data = pd.read_csv(path,header=None,names=[\"Size\",\"Bedrooms\",\"Prize\"])\n",
    "data.insert(0,\"ones\",1)\n",
    "data.head()"
   ]
  },
  {
   "cell_type": "code",
   "execution_count": 3,
   "id": "6232160d",
   "metadata": {},
   "outputs": [
    {
     "name": "stdout",
     "output_type": "stream",
     "text": [
      "[[   1 2104    3]\n",
      " [   1 1600    3]\n",
      " [   1 2400    3]\n",
      " [   1 1416    2]\n",
      " [   1 3000    4]\n",
      " [   1 1985    4]\n",
      " [   1 1534    3]\n",
      " [   1 1427    3]\n",
      " [   1 1380    3]\n",
      " [   1 1494    3]\n",
      " [   1 1940    4]\n",
      " [   1 2000    3]\n",
      " [   1 1890    3]\n",
      " [   1 4478    5]\n",
      " [   1 1268    3]\n",
      " [   1 2300    4]\n",
      " [   1 1320    2]\n",
      " [   1 1236    3]\n",
      " [   1 2609    4]\n",
      " [   1 3031    4]\n",
      " [   1 1767    3]\n",
      " [   1 1888    2]\n",
      " [   1 1604    3]\n",
      " [   1 1962    4]\n",
      " [   1 3890    3]\n",
      " [   1 1100    3]\n",
      " [   1 1458    3]\n",
      " [   1 2526    3]\n",
      " [   1 2200    3]\n",
      " [   1 2637    3]\n",
      " [   1 1839    2]\n",
      " [   1 1000    1]\n",
      " [   1 2040    4]\n",
      " [   1 3137    3]\n",
      " [   1 1811    4]\n",
      " [   1 1437    3]\n",
      " [   1 1239    3]\n",
      " [   1 2132    4]\n",
      " [   1 4215    4]\n",
      " [   1 2162    4]\n",
      " [   1 1664    2]\n",
      " [   1 2238    3]\n",
      " [   1 2567    4]\n",
      " [   1 1200    3]\n",
      " [   1  852    2]\n",
      " [   1 1852    4]\n",
      " [   1 1203    3]]\n",
      "[[399900]\n",
      " [329900]\n",
      " [369000]\n",
      " [232000]\n",
      " [539900]\n",
      " [299900]\n",
      " [314900]\n",
      " [198999]\n",
      " [212000]\n",
      " [242500]\n",
      " [239999]\n",
      " [347000]\n",
      " [329999]\n",
      " [699900]\n",
      " [259900]\n",
      " [449900]\n",
      " [299900]\n",
      " [199900]\n",
      " [499998]\n",
      " [599000]\n",
      " [252900]\n",
      " [255000]\n",
      " [242900]\n",
      " [259900]\n",
      " [573900]\n",
      " [249900]\n",
      " [464500]\n",
      " [469000]\n",
      " [475000]\n",
      " [299900]\n",
      " [349900]\n",
      " [169900]\n",
      " [314900]\n",
      " [579900]\n",
      " [285900]\n",
      " [249900]\n",
      " [229900]\n",
      " [345000]\n",
      " [549000]\n",
      " [287000]\n",
      " [368500]\n",
      " [329900]\n",
      " [314000]\n",
      " [299000]\n",
      " [179900]\n",
      " [299900]\n",
      " [239500]]\n"
     ]
    }
   ],
   "source": [
    "x_train = np.matrix(data.iloc[:,0:3].values)\n",
    "y_train = np.matrix(data.iloc[:,3:4].values)\n",
    "print(x_train)\n",
    "print(y_train)"
   ]
  },
  {
   "cell_type": "code",
   "execution_count": 4,
   "id": "dd6b3251",
   "metadata": {},
   "outputs": [],
   "source": [
    "def normal_equation(x,y):\n",
    "    theta = np.linalg.inv(x.T*x)*x.T*y\n",
    "    return theta"
   ]
  },
  {
   "cell_type": "code",
   "execution_count": 5,
   "id": "aaf2d4f1",
   "metadata": {},
   "outputs": [
    {
     "name": "stdout",
     "output_type": "stream",
     "text": [
      "[[89597.9095428 ]\n",
      " [  139.21067402]\n",
      " [-8738.01911233]]\n"
     ]
    }
   ],
   "source": [
    "theta_final = normal_equation(x_train,y_train)\n",
    "print(theta_final)"
   ]
  },
  {
   "cell_type": "code",
   "execution_count": 6,
   "id": "56cb9be6",
   "metadata": {},
   "outputs": [
    {
     "name": "stdout",
     "output_type": "stream",
     "text": [
      "[[356283.1103389 ]\n",
      " [286120.93063401]\n",
      " [397489.46984811]\n",
      " [269244.1857271 ]\n",
      " [472277.85514636]\n",
      " [330979.02101847]\n",
      " [276933.02614885]\n",
      " [262037.48402896]\n",
      " [255494.58235014]\n",
      " [271364.59918814]\n",
      " [324714.54068768]\n",
      " [341805.20024106]\n",
      " [326492.02609912]\n",
      " [669293.21223208]\n",
      " [239902.98686016]\n",
      " [374830.38333402]\n",
      " [255879.96102141]\n",
      " [235448.2452916 ]\n",
      " [417846.48160547]\n",
      " [476593.38604091]\n",
      " [309369.11319496]\n",
      " [334951.62386342]\n",
      " [286677.77333008]\n",
      " [327777.17551607]\n",
      " [604913.37413438]\n",
      " [216515.5936252 ]\n",
      " [266353.01492351]\n",
      " [415030.01477433]\n",
      " [369647.33504459]\n",
      " [430482.39959029]\n",
      " [328130.30083655]\n",
      " [220070.56444809]\n",
      " [338635.60808944]\n",
      " [500087.7365991 ]\n",
      " [306756.3637394 ]\n",
      " [263429.59076914]\n",
      " [235865.87731365]\n",
      " [351442.99009906]\n",
      " [641418.82407778]\n",
      " [355619.31031959]\n",
      " [303768.43288347]\n",
      " [374937.34065726]\n",
      " [411999.63329673]\n",
      " [230436.66102696]\n",
      " [190729.36558116]\n",
      " [312464.00137413]\n",
      " [230854.29304902]]\n"
     ]
    }
   ],
   "source": [
    "y_pre = x_train * theta_final\n",
    "print(y_pre)"
   ]
  },
  {
   "cell_type": "code",
   "execution_count": 7,
   "id": "5bc8f446",
   "metadata": {},
   "outputs": [
    {
     "data": {
      "image/png": "[encoded data removed]",
      "text/plain": [
       "<Figure size 1200x400 with 2 Axes>"
      ]
     },
     "metadata": {},
     "output_type": "display_data"
    }
   ],
   "source": [
    "fig,ax = plt.subplots(1,2,figsize=(12,4))\n",
    "for i in range(2):\n",
    "    ax[i].plot(x_train[:,i + 1],y_train[:,0],'x',label=\"target\")\n",
    "    ax[i].plot(x_train[:,i + 1],y_pre,'o',color=\"r\",label=\"prediction\")\n",
    "    ax[i].set_xlabel(data.columns[i + 1])\n",
    "ax[0].set_ylabel(\"Prize\")\n",
    "ax[0].legend(loc=\"best\")\n",
    "fig.suptitle(\"target vs. prediction\")\n",
    "plt.show()"
   ]
  }
 ],
 "metadata": {
  "kernelspec": {
   "display_name": "base",
   "language": "python",
   "name": "python3"
  },
  "language_info": {
   "codemirror_mode": {
    "name": "ipython",
    "version": 3
   },
   "file_extension": ".py",
   "mimetype": "text/x-python",
   "name": "python",
   "nbconvert_exporter": "python",
   "pygments_lexer": "ipython3",
   "version": "3.12.7"
  }
 },
 "nbformat": 4,
 "nbformat_minor": 5
}
