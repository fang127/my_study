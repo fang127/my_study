{
 "cells": [
  {
   "cell_type": "markdown",
   "id": "91eafdfc",
   "metadata": {},
   "source": [
    "# 多变量线性回归"
   ]
  },
  {
   "cell_type": "markdown",
   "id": "1e5acf08",
   "metadata": {
    "vscode": {
     "languageId": "plaintext"
    }
   },
   "source": [
    "ex1data2还包括一个房屋价格数据集，其中有2个变量（房子的大小，卧室的数量）和目标（房子的价格）。 我们使用我们已经应用的技术来分析数据集。"
   ]
  },
  {
   "cell_type": "code",
   "execution_count": 228,
   "id": "6aa85505",
   "metadata": {},
   "outputs": [],
   "source": [
    "import numpy as np\n",
    "import pandas as pd\n",
    "import matplotlib.pyplot as plt"
   ]
  },
  {
   "cell_type": "code",
   "execution_count": 229,
   "id": "be73b013",
   "metadata": {},
   "outputs": [
    {
     "data": {
      "text/html": [
       "<div>\n",
       "<style scoped>\n",
       "    .dataframe tbody tr th:only-of-type {\n",
       "        vertical-align: middle;\n",
       "    }\n",
       "\n",
       "    .dataframe tbody tr th {\n",
       "        vertical-align: top;\n",
       "    }\n",
       "\n",
       "    .dataframe thead th {\n",
       "        text-align: right;\n",
       "    }\n",
       "</style>\n",
       "<table border=\"1\" class=\"dataframe\">\n",
       "  <thead>\n",
       "    <tr style=\"text-align: right;\">\n",
       "      <th></th>\n",
       "      <th>Size</th>\n",
       "      <th>Bedrooms_Numbers</th>\n",
       "      <th>Prize</th>\n",
       "    </tr>\n",
       "  </thead>\n",
       "  <tbody>\n",
       "    <tr>\n",
       "      <th>0</th>\n",
       "      <td>2104</td>\n",
       "      <td>3</td>\n",
       "      <td>399900</td>\n",
       "    </tr>\n",
       "    <tr>\n",
       "      <th>1</th>\n",
       "      <td>1600</td>\n",
       "      <td>3</td>\n",
       "      <td>329900</td>\n",
       "    </tr>\n",
       "    <tr>\n",
       "      <th>2</th>\n",
       "      <td>2400</td>\n",
       "      <td>3</td>\n",
       "      <td>369000</td>\n",
       "    </tr>\n",
       "    <tr>\n",
       "      <th>3</th>\n",
       "      <td>1416</td>\n",
       "      <td>2</td>\n",
       "      <td>232000</td>\n",
       "    </tr>\n",
       "    <tr>\n",
       "      <th>4</th>\n",
       "      <td>3000</td>\n",
       "      <td>4</td>\n",
       "      <td>539900</td>\n",
       "    </tr>\n",
       "  </tbody>\n",
       "</table>\n",
       "</div>"
      ],
      "text/plain": [
       "   Size  Bedrooms_Numbers   Prize\n",
       "0  2104                 3  399900\n",
       "1  1600                 3  329900\n",
       "2  2400                 3  369000\n",
       "3  1416                 2  232000\n",
       "4  3000                 4  539900"
      ]
     },
     "execution_count": 229,
     "metadata": {},
     "output_type": "execute_result"
    }
   ],
   "source": [
    "path = \"ex1data2.txt\"\n",
    "data = pd.read_csv(path,header=None,names=[\"Size\",\"Bedrooms_Numbers\",\"Prize\"])\n",
    "data.head()"
   ]
  },
  {
   "cell_type": "code",
   "execution_count": 230,
   "id": "69f4ed73",
   "metadata": {},
   "outputs": [
    {
     "name": "stdout",
     "output_type": "stream",
     "text": [
      "Size                  3626\n",
      "Bedrooms_Numbers         4\n",
      "Prize               530000\n",
      "dtype: int64\n"
     ]
    }
   ],
   "source": [
    "print(np.ptp(data,axis=0))"
   ]
  },
  {
   "cell_type": "markdown",
   "id": "4f6b8a94",
   "metadata": {},
   "source": [
    "量级相差很大，需要进行预处理-特征归一化、特征缩放"
   ]
  },
  {
   "cell_type": "code",
   "execution_count": 231,
   "id": "5abc7fc6",
   "metadata": {},
   "outputs": [
    {
     "data": {
      "text/html": [
       "<div>\n",
       "<style scoped>\n",
       "    .dataframe tbody tr th:only-of-type {\n",
       "        vertical-align: middle;\n",
       "    }\n",
       "\n",
       "    .dataframe tbody tr th {\n",
       "        vertical-align: top;\n",
       "    }\n",
       "\n",
       "    .dataframe thead th {\n",
       "        text-align: right;\n",
       "    }\n",
       "</style>\n",
       "<table border=\"1\" class=\"dataframe\">\n",
       "  <thead>\n",
       "    <tr style=\"text-align: right;\">\n",
       "      <th></th>\n",
       "      <th>Size</th>\n",
       "      <th>Bedrooms_Numbers</th>\n",
       "      <th>Prize</th>\n",
       "    </tr>\n",
       "  </thead>\n",
       "  <tbody>\n",
       "    <tr>\n",
       "      <th>0</th>\n",
       "      <td>0.130010</td>\n",
       "      <td>-0.223675</td>\n",
       "      <td>0.475747</td>\n",
       "    </tr>\n",
       "    <tr>\n",
       "      <th>1</th>\n",
       "      <td>-0.504190</td>\n",
       "      <td>-0.223675</td>\n",
       "      <td>-0.084074</td>\n",
       "    </tr>\n",
       "    <tr>\n",
       "      <th>2</th>\n",
       "      <td>0.502476</td>\n",
       "      <td>-0.223675</td>\n",
       "      <td>0.228626</td>\n",
       "    </tr>\n",
       "    <tr>\n",
       "      <th>3</th>\n",
       "      <td>-0.735723</td>\n",
       "      <td>-1.537767</td>\n",
       "      <td>-0.867025</td>\n",
       "    </tr>\n",
       "    <tr>\n",
       "      <th>4</th>\n",
       "      <td>1.257476</td>\n",
       "      <td>1.090417</td>\n",
       "      <td>1.595389</td>\n",
       "    </tr>\n",
       "  </tbody>\n",
       "</table>\n",
       "</div>"
      ],
      "text/plain": [
       "       Size  Bedrooms_Numbers     Prize\n",
       "0  0.130010         -0.223675  0.475747\n",
       "1 -0.504190         -0.223675 -0.084074\n",
       "2  0.502476         -0.223675  0.228626\n",
       "3 -0.735723         -1.537767 -0.867025\n",
       "4  1.257476          1.090417  1.595389"
      ]
     },
     "execution_count": 231,
     "metadata": {},
     "output_type": "execute_result"
    }
   ],
   "source": [
    "data = (data - data.mean()) / data.std()\n",
    "data.head()"
   ]
  },
  {
   "cell_type": "code",
   "execution_count": 232,
   "id": "917cf3a2",
   "metadata": {},
   "outputs": [],
   "source": [
    "data.insert(0,\"ones\",1)\n",
    "cols = data.shape[1]\n",
    "x = data.iloc[:,0:cols-1]\n",
    "y = data.iloc[:,cols-1:cols]"
   ]
  },
  {
   "cell_type": "code",
   "execution_count": 233,
   "id": "0a94bef8",
   "metadata": {},
   "outputs": [
    {
     "data": {
      "text/html": [
       "<div>\n",
       "<style scoped>\n",
       "    .dataframe tbody tr th:only-of-type {\n",
       "        vertical-align: middle;\n",
       "    }\n",
       "\n",
       "    .dataframe tbody tr th {\n",
       "        vertical-align: top;\n",
       "    }\n",
       "\n",
       "    .dataframe thead th {\n",
       "        text-align: right;\n",
       "    }\n",
       "</style>\n",
       "<table border=\"1\" class=\"dataframe\">\n",
       "  <thead>\n",
       "    <tr style=\"text-align: right;\">\n",
       "      <th></th>\n",
       "      <th>ones</th>\n",
       "      <th>Size</th>\n",
       "      <th>Bedrooms_Numbers</th>\n",
       "    </tr>\n",
       "  </thead>\n",
       "  <tbody>\n",
       "    <tr>\n",
       "      <th>0</th>\n",
       "      <td>1</td>\n",
       "      <td>0.130010</td>\n",
       "      <td>-0.223675</td>\n",
       "    </tr>\n",
       "    <tr>\n",
       "      <th>1</th>\n",
       "      <td>1</td>\n",
       "      <td>-0.504190</td>\n",
       "      <td>-0.223675</td>\n",
       "    </tr>\n",
       "    <tr>\n",
       "      <th>2</th>\n",
       "      <td>1</td>\n",
       "      <td>0.502476</td>\n",
       "      <td>-0.223675</td>\n",
       "    </tr>\n",
       "    <tr>\n",
       "      <th>3</th>\n",
       "      <td>1</td>\n",
       "      <td>-0.735723</td>\n",
       "      <td>-1.537767</td>\n",
       "    </tr>\n",
       "    <tr>\n",
       "      <th>4</th>\n",
       "      <td>1</td>\n",
       "      <td>1.257476</td>\n",
       "      <td>1.090417</td>\n",
       "    </tr>\n",
       "  </tbody>\n",
       "</table>\n",
       "</div>"
      ],
      "text/plain": [
       "   ones      Size  Bedrooms_Numbers\n",
       "0     1  0.130010         -0.223675\n",
       "1     1 -0.504190         -0.223675\n",
       "2     1  0.502476         -0.223675\n",
       "3     1 -0.735723         -1.537767\n",
       "4     1  1.257476          1.090417"
      ]
     },
     "execution_count": 233,
     "metadata": {},
     "output_type": "execute_result"
    }
   ],
   "source": [
    "x.head()"
   ]
  },
  {
   "cell_type": "code",
   "execution_count": 234,
   "id": "d03a9014",
   "metadata": {},
   "outputs": [
    {
     "data": {
      "text/html": [
       "<div>\n",
       "<style scoped>\n",
       "    .dataframe tbody tr th:only-of-type {\n",
       "        vertical-align: middle;\n",
       "    }\n",
       "\n",
       "    .dataframe tbody tr th {\n",
       "        vertical-align: top;\n",
       "    }\n",
       "\n",
       "    .dataframe thead th {\n",
       "        text-align: right;\n",
       "    }\n",
       "</style>\n",
       "<table border=\"1\" class=\"dataframe\">\n",
       "  <thead>\n",
       "    <tr style=\"text-align: right;\">\n",
       "      <th></th>\n",
       "      <th>Prize</th>\n",
       "    </tr>\n",
       "  </thead>\n",
       "  <tbody>\n",
       "    <tr>\n",
       "      <th>0</th>\n",
       "      <td>0.475747</td>\n",
       "    </tr>\n",
       "    <tr>\n",
       "      <th>1</th>\n",
       "      <td>-0.084074</td>\n",
       "    </tr>\n",
       "    <tr>\n",
       "      <th>2</th>\n",
       "      <td>0.228626</td>\n",
       "    </tr>\n",
       "    <tr>\n",
       "      <th>3</th>\n",
       "      <td>-0.867025</td>\n",
       "    </tr>\n",
       "    <tr>\n",
       "      <th>4</th>\n",
       "      <td>1.595389</td>\n",
       "    </tr>\n",
       "  </tbody>\n",
       "</table>\n",
       "</div>"
      ],
      "text/plain": [
       "      Prize\n",
       "0  0.475747\n",
       "1 -0.084074\n",
       "2  0.228626\n",
       "3 -0.867025\n",
       "4  1.595389"
      ]
     },
     "execution_count": 234,
     "metadata": {},
     "output_type": "execute_result"
    }
   ],
   "source": [
    "y.head()"
   ]
  },
  {
   "cell_type": "code",
   "execution_count": 235,
   "id": "d1c91f85",
   "metadata": {},
   "outputs": [],
   "source": [
    "# 初始化x\n",
    "X = np.matrix(x.values)\n",
    "# 初始化y\n",
    "y = np.matrix(y.values)\n",
    "# 初始化theta\n",
    "theta = np.zeros(X.shape[1])\n",
    "theta = np.matrix(theta)"
   ]
  },
  {
   "cell_type": "code",
   "execution_count": 236,
   "id": "ccf77a15",
   "metadata": {},
   "outputs": [
    {
     "name": "stdout",
     "output_type": "stream",
     "text": [
      "[[ 1.00000000e+00  1.30009869e-01 -2.23675187e-01]\n",
      " [ 1.00000000e+00 -5.04189838e-01 -2.23675187e-01]\n",
      " [ 1.00000000e+00  5.02476364e-01 -2.23675187e-01]\n",
      " [ 1.00000000e+00 -7.35723065e-01 -1.53776691e+00]\n",
      " [ 1.00000000e+00  1.25747602e+00  1.09041654e+00]\n",
      " [ 1.00000000e+00 -1.97317285e-02  1.09041654e+00]\n",
      " [ 1.00000000e+00 -5.87239800e-01 -2.23675187e-01]\n",
      " [ 1.00000000e+00 -7.21881404e-01 -2.23675187e-01]\n",
      " [ 1.00000000e+00 -7.81023044e-01 -2.23675187e-01]\n",
      " [ 1.00000000e+00 -6.37573110e-01 -2.23675187e-01]\n",
      " [ 1.00000000e+00 -7.63567023e-02  1.09041654e+00]\n",
      " [ 1.00000000e+00 -8.56737193e-04 -2.23675187e-01]\n",
      " [ 1.00000000e+00 -1.39273340e-01 -2.23675187e-01]\n",
      " [ 1.00000000e+00  3.11729182e+00  2.40450826e+00]\n",
      " [ 1.00000000e+00 -9.21956312e-01 -2.23675187e-01]\n",
      " [ 1.00000000e+00  3.76643089e-01  1.09041654e+00]\n",
      " [ 1.00000000e+00 -8.56523009e-01 -1.53776691e+00]\n",
      " [ 1.00000000e+00 -9.62222960e-01 -2.23675187e-01]\n",
      " [ 1.00000000e+00  7.65467909e-01  1.09041654e+00]\n",
      " [ 1.00000000e+00  1.29648433e+00  1.09041654e+00]\n",
      " [ 1.00000000e+00 -2.94048269e-01 -2.23675187e-01]\n",
      " [ 1.00000000e+00 -1.41790005e-01 -1.53776691e+00]\n",
      " [ 1.00000000e+00 -4.99156507e-01 -2.23675187e-01]\n",
      " [ 1.00000000e+00 -4.86733818e-02  1.09041654e+00]\n",
      " [ 1.00000000e+00  2.37739217e+00 -2.23675187e-01]\n",
      " [ 1.00000000e+00 -1.13335621e+00 -2.23675187e-01]\n",
      " [ 1.00000000e+00 -6.82873089e-01 -2.23675187e-01]\n",
      " [ 1.00000000e+00  6.61026291e-01 -2.23675187e-01]\n",
      " [ 1.00000000e+00  2.50809813e-01 -2.23675187e-01]\n",
      " [ 1.00000000e+00  8.00701226e-01 -2.23675187e-01]\n",
      " [ 1.00000000e+00 -2.03448310e-01 -1.53776691e+00]\n",
      " [ 1.00000000e+00 -1.25918949e+00 -2.85185864e+00]\n",
      " [ 1.00000000e+00  4.94765729e-02  1.09041654e+00]\n",
      " [ 1.00000000e+00  1.42986760e+00 -2.23675187e-01]\n",
      " [ 1.00000000e+00 -2.38681627e-01  1.09041654e+00]\n",
      " [ 1.00000000e+00 -7.09298077e-01 -2.23675187e-01]\n",
      " [ 1.00000000e+00 -9.58447962e-01 -2.23675187e-01]\n",
      " [ 1.00000000e+00  1.65243186e-01  1.09041654e+00]\n",
      " [ 1.00000000e+00  2.78635031e+00  1.09041654e+00]\n",
      " [ 1.00000000e+00  2.02993169e-01  1.09041654e+00]\n",
      " [ 1.00000000e+00 -4.23656542e-01 -1.53776691e+00]\n",
      " [ 1.00000000e+00  2.98626458e-01 -2.23675187e-01]\n",
      " [ 1.00000000e+00  7.12617934e-01  1.09041654e+00]\n",
      " [ 1.00000000e+00 -1.00752294e+00 -2.23675187e-01]\n",
      " [ 1.00000000e+00 -1.44542274e+00 -1.53776691e+00]\n",
      " [ 1.00000000e+00 -1.87089985e-01  1.09041654e+00]\n",
      " [ 1.00000000e+00 -1.00374794e+00 -2.23675187e-01]]\n",
      "[[ 0.47574687]\n",
      " [-0.08407444]\n",
      " [ 0.22862575]\n",
      " [-0.86702453]\n",
      " [ 1.59538948]\n",
      " [-0.32399786]\n",
      " [-0.20403615]\n",
      " [-1.13094828]\n",
      " [-1.02697347]\n",
      " [-0.78305133]\n",
      " [-0.80305294]\n",
      " [ 0.05268191]\n",
      " [-0.08328269]\n",
      " [ 2.87498104]\n",
      " [-0.64389575]\n",
      " [ 0.87561923]\n",
      " [-0.32399786]\n",
      " [-1.12374258]\n",
      " [ 1.27627534]\n",
      " [ 2.06803861]\n",
      " [-0.69987788]\n",
      " [-0.68308324]\n",
      " [-0.77985235]\n",
      " [-0.64389575]\n",
      " [ 1.86730269]\n",
      " [-0.72387022]\n",
      " [ 0.99238196]\n",
      " [ 1.02837047]\n",
      " [ 1.07635515]\n",
      " [-0.32399786]\n",
      " [ 0.0758745 ]\n",
      " [-1.363666  ]\n",
      " [-0.20403615]\n",
      " [ 1.91528737]\n",
      " [-0.43596212]\n",
      " [-0.72387022]\n",
      " [-0.88381916]\n",
      " [ 0.03668701]\n",
      " [ 1.66816625]\n",
      " [-0.42716493]\n",
      " [ 0.22462702]\n",
      " [-0.08407444]\n",
      " [-0.21123385]\n",
      " [-0.33119556]\n",
      " [-1.28369153]\n",
      " [-0.32399786]\n",
      " [-0.80704367]]\n",
      "[[0. 0. 0.]]\n"
     ]
    }
   ],
   "source": [
    "print(X)\n",
    "print(y)\n",
    "print(theta)"
   ]
  },
  {
   "cell_type": "code",
   "execution_count": 237,
   "id": "2e6e3b43",
   "metadata": {},
   "outputs": [],
   "source": [
    "def compute_cost(X,y,theta):\n",
    "    err = X * theta.T - y\n",
    "    cost = np.sum(np.power(err,2)) / (2 * len(X))\n",
    "    return cost"
   ]
  },
  {
   "cell_type": "code",
   "execution_count": 238,
   "id": "28e06452",
   "metadata": {},
   "outputs": [],
   "source": [
    "def gradient_descent(X,y,theta,alpha,iters):\n",
    "    temp = np.matrix(np.zeros(theta.shape))\n",
    "    parameters = int(theta.ravel().shape[1])\n",
    "    cost = np.zeros(iters)\n",
    "\n",
    "    for i in range(iters):\n",
    "        error = (X * theta.T) - y\n",
    "        for j in range(parameters):\n",
    "            term = np.multiply(error,X[:,j])\n",
    "            temp[0,j] = theta[0,j] - (alpha / len(X)) * np.sum(term)\n",
    "        theta = temp\n",
    "        cost[i] = compute_cost(X,y,theta)\n",
    "    return theta,cost\n"
   ]
  },
  {
   "cell_type": "markdown",
   "id": "1999522f",
   "metadata": {},
   "source": [
    "初始化$\\alpha$以及iters"
   ]
  },
  {
   "cell_type": "code",
   "execution_count": 239,
   "id": "269afe56",
   "metadata": {},
   "outputs": [],
   "source": [
    "alpha = 0.01\n",
    "iters = 1000"
   ]
  },
  {
   "cell_type": "code",
   "execution_count": 240,
   "id": "f2a015f7",
   "metadata": {},
   "outputs": [
    {
     "data": {
      "text/plain": [
       "matrix([[-1.10868761e-16,  8.78503652e-01, -4.69166570e-02]])"
      ]
     },
     "execution_count": 240,
     "metadata": {},
     "output_type": "execute_result"
    }
   ],
   "source": [
    "g,cost = gradient_descent(X,y,theta,alpha,iters)\n",
    "g"
   ]
  },
  {
   "cell_type": "code",
   "execution_count": 241,
   "id": "19e993f8",
   "metadata": {},
   "outputs": [
    {
     "data": {
      "text/plain": [
       "0.13070336960771892"
      ]
     },
     "execution_count": 241,
     "metadata": {},
     "output_type": "execute_result"
    }
   ],
   "source": [
    "compute_cost(X,y,g)"
   ]
  },
  {
   "cell_type": "code",
   "execution_count": 251,
   "id": "a3c9c96e",
   "metadata": {},
   "outputs": [
    {
     "name": "stdout",
     "output_type": "stream",
     "text": [
      "<built-in method astype of matrix object at 0x00000233301B56D0>\n"
     ]
    }
   ],
   "source": [
    "data_real = pd.read_csv(path,header=None,names=[\"Size\",\"Bedrooms_Numbers\",\"Prize\"])\n",
    "pre = X * g.T\n",
    "print(pre.astype)"
   ]
  },
  {
   "cell_type": "code",
   "execution_count": 256,
   "id": "d30d9375",
   "metadata": {},
   "outputs": [
    {
     "data": {
      "image/png": "[encoded data removed]",
      "text/plain": [
       "<Figure size 1200x400 with 2 Axes>"
      ]
     },
     "metadata": {},
     "output_type": "display_data"
    }
   ],
   "source": [
    "fig,ax = plt.subplots(1,2,figsize=(12,4))\n",
    "for i in range(2):\n",
    "    ax[i].scatter(data.iloc[:,i + 1],data[\"Prize\"] ,color=\"r\",label=\"target\")\n",
    "    ax[i].scatter(data.iloc[:,i + 1],pre.A,color='blue',label=\"prediction\",marker=\"x\")\n",
    "    ax[i].set_xlabel(data.columns[i])\n",
    "ax[0].set_ylabel(\"Prize(*1000)\")\n",
    "ax[0].legend(loc=\"best\")\n",
    "fig.suptitle(\"Prize with Size and Bedrooms Number\")\n",
    "plt.show()"
   ]
  },
  {
   "cell_type": "code",
   "execution_count": 244,
   "id": "8b6995af",
   "metadata": {},
   "outputs": [
    {
     "data": {
      "image/png": "[encoded data removed]",
      "text/plain": [
       "<Figure size 1200x800 with 1 Axes>"
      ]
     },
     "metadata": {},
     "output_type": "display_data"
    }
   ],
   "source": [
    "fig, ax = plt.subplots(figsize=(12,8))\n",
    "ax.plot(np.arange(iters), cost, 'r')\n",
    "ax.set_xlabel('Iterations')\n",
    "ax.set_ylabel('Cost')\n",
    "ax.set_title('Error vs. Training Epoch')\n",
    "plt.show()"
   ]
  }
 ],
 "metadata": {
  "kernelspec": {
   "display_name": "base",
   "language": "python",
   "name": "python3"
  },
  "language_info": {
   "codemirror_mode": {
    "name": "ipython",
    "version": 3
   },
   "file_extension": ".py",
   "mimetype": "text/x-python",
   "name": "python",
   "nbconvert_exporter": "python",
   "pygments_lexer": "ipython3",
   "version": "3.12.7"
  }
 },
 "nbformat": 4,
 "nbformat_minor": 5
}
