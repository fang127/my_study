{
 "cells": [
  {
   "cell_type": "markdown",
   "id": "5055731b",
   "metadata": {},
   "source": [
    "numpy的基础运算"
   ]
  },
  {
   "cell_type": "code",
   "execution_count": 2,
   "id": "85f67dd3",
   "metadata": {},
   "outputs": [],
   "source": [
    "import numpy as np"
   ]
  },
  {
   "cell_type": "code",
   "execution_count": 3,
   "id": "436dd925",
   "metadata": {},
   "outputs": [
    {
     "name": "stdout",
     "output_type": "stream",
     "text": [
      "[1 2 3 4] [0 1 2 3]\n"
     ]
    }
   ],
   "source": [
    "a = np.array([1,2,3,4])\n",
    "b = np.arange(4)\n",
    "print(a,b)"
   ]
  },
  {
   "cell_type": "markdown",
   "id": "aefb4245",
   "metadata": {},
   "source": [
    "总结 简单的直接 + -可以完成矩阵的加减法，但是简单的直接 * / 不可以完成矩阵的乘除，只可以得到对应元素进行单独乘除"
   ]
  },
  {
   "cell_type": "code",
   "execution_count": null,
   "id": "2f997342",
   "metadata": {},
   "outputs": [
    {
     "name": "stdout",
     "output_type": "stream",
     "text": [
      "[1 3 5 7]\n",
      "[1 1 1 1]\n",
      "[ 0  2  6 12]\n",
      "[ 1  4  9 16]\n",
      "[0.         0.5        0.66666667 0.75      ]\n",
      "[ 8.41470985  9.09297427  1.41120008 -7.56802495]\n",
      "[0 1 2 3]\n",
      "[0 0 0 0]\n",
      "[ True  True  True False]\n"
     ]
    }
   ],
   "source": [
    "c = a + b # 加法\n",
    "print(c)\n",
    "c1 = a - b # 减法\n",
    "print(c1)\n",
    "c2 = a * b # 乘法 只能对应位置元素相乘\n",
    "print(c2)\n",
    "c3 = a ** 2 # 对应元素求次方\n",
    "print(c3)\n",
    "c4 = b / a # 对应元素进行除法\n",
    "print(c4)\n",
    "c5 = 10 * np.sin(a) # 三角函数 .cos()  .tan() .arcsin() 等同理 注意是弧度制，需转换为角度\n",
    "print(c5)\n",
    "c6 = b % a # 对应元素求模\n",
    "print(c6)\n",
    "c7 = b // a # 对应元素向下取整\n",
    "print(c7)\n",
    "print(b < 3) # 显示小于3的值，以bool类型返回\n"
   ]
  },
  {
   "cell_type": "code",
   "execution_count": null,
   "id": "35a4657e",
   "metadata": {},
   "outputs": [
    {
     "name": "stdout",
     "output_type": "stream",
     "text": [
      "a = [[1 2]\n",
      " [3 4]],b = [[0 1]\n",
      " [2 3]]\n",
      "[[ 0  2]\n",
      " [ 6 12]]\n",
      "[[ 4  7]\n",
      " [ 8 15]]\n",
      "[[ 4  7]\n",
      " [ 8 15]]\n",
      "[[ 3  4]\n",
      " [11 16]]\n"
     ]
    }
   ],
   "source": [
    "a = a.reshape((2,2))\n",
    "b = b.reshape((2,2))\n",
    "print(f\"a = {a},b = {b}\")\n",
    "c = a * b\n",
    "c_dot = np.dot(a,b) # 矩阵正确的乘法\n",
    "c_dot2 = a.dot(b) # 另一种形式 numpy中所有的 np.函数(数组) 都可以定义为 数组.函数() 实现的功能一样\n",
    "c_dot3 = b.dot(a) # 注意a*b和b*a的矩阵运算不一定相等\n",
    "print(c)\n",
    "print(c_dot)\n",
    "print(c_dot2)\n",
    "print(c_dot3)"
   ]
  },
  {
   "cell_type": "code",
   "execution_count": null,
   "id": "5751098f",
   "metadata": {},
   "outputs": [
    {
     "name": "stdout",
     "output_type": "stream",
     "text": [
      "[[0.76673767 0.86613298 0.49015105 0.91667144]\n",
      " [0.62193535 0.82576708 0.8302648  0.0503718 ]]\n",
      "5.368032188555133\n",
      "0.9166714440542272\n",
      "0.05037179963204863\n",
      "[3.03969316 2.32833903]\n",
      "[1.38867303 1.69190007 1.32041585 0.96704324]\n",
      "[0.76673767 0.86613298 0.8302648  0.91667144]\n"
     ]
    }
   ],
   "source": [
    "import random\n",
    "a = np.random.random((2,4)) # 随机生成的2行4列的0-1的随机矩阵\n",
    "print(a)\n",
    "print(np.sum(a)) # 求和\n",
    "print(np.max(a)) # 最大值\n",
    "print(np.min(a)) # 最小值\n",
    "print(np.sum(a,axis = 1)) # 行求和\n",
    "print(np.sum(a,axis = 0)) # 列求和\n",
    "print(np.max(a,axis = 0)) # 列找最大值 其余同理"
   ]
  }
 ],
 "metadata": {
  "kernelspec": {
   "display_name": "base",
   "language": "python",
   "name": "python3"
  },
  "language_info": {
   "codemirror_mode": {
    "name": "ipython",
    "version": 3
   },
   "file_extension": ".py",
   "mimetype": "text/x-python",
   "name": "python",
   "nbconvert_exporter": "python",
   "pygments_lexer": "ipython3",
   "version": "3.12.7"
  }
 },
 "nbformat": 4,
 "nbformat_minor": 5
}
