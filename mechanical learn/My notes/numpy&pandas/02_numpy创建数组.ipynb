{
 "cells": [
  {
   "cell_type": "code",
   "execution_count": 1,
   "id": "f4fb4c77",
   "metadata": {},
   "outputs": [],
   "source": [
    "import numpy as np"
   ]
  },
  {
   "cell_type": "markdown",
   "id": "e54fb41e",
   "metadata": {},
   "source": [
    "每一种array可以定义一种type，让其以小数，还是整数形式存在\n",
    "\n",
    "使用dtype定义\n",
    "\n"
   ]
  },
  {
   "cell_type": "code",
   "execution_count": 2,
   "id": "c31429d1",
   "metadata": {},
   "outputs": [
    {
     "name": "stdout",
     "output_type": "stream",
     "text": [
      "[ 2 23  4]\n",
      "int32\n",
      "[ 2 23  4]\n",
      "int64\n"
     ]
    }
   ],
   "source": [
    "a = np.array([2,23,4],dtype=int) # 默认int是32位\n",
    "a1 = np.array([2,23,4],dtype=np.int64) # 输入np.int64可以将默认的32位int改为64位\n",
    "print(a) # 输出可以看到没有逗号隔开\n",
    "print(a.dtype) # 32位的int\n",
    "print(a1)\n",
    "print(a1.dtype)"
   ]
  },
  {
   "cell_type": "code",
   "execution_count": 3,
   "id": "fe1ac490",
   "metadata": {},
   "outputs": [
    {
     "name": "stdout",
     "output_type": "stream",
     "text": [
      "[[1. 2. 3.]\n",
      " [4. 5. 6.]]\n",
      "float64\n",
      "[[1. 2. 3.]\n",
      " [4. 5. 6.]]\n",
      "float32\n"
     ]
    }
   ],
   "source": [
    "b = np.array([[1,2,3],[4,5,6]],dtype=float)\n",
    "b1 = np.array([[1,2,3],[4,5,6]],dtype=np.float32)\n",
    "print(b)\n",
    "print(b.dtype) # 64位的float\n",
    "print(b1)\n",
    "print(b1.dtype)"
   ]
  },
  {
   "cell_type": "markdown",
   "id": "d01ec256",
   "metadata": {},
   "source": [
    "全都为0的矩阵的定义 .zeros((行，列))"
   ]
  },
  {
   "cell_type": "code",
   "execution_count": 4,
   "id": "bed51ace",
   "metadata": {},
   "outputs": [
    {
     "name": "stdout",
     "output_type": "stream",
     "text": [
      "[[0. 0. 0. 0.]\n",
      " [0. 0. 0. 0.]\n",
      " [0. 0. 0. 0.]]\n"
     ]
    }
   ],
   "source": [
    "c = np.zeros((3,4)) # （3，4）为shape，代表3行4列\n",
    "print(c)"
   ]
  },
  {
   "cell_type": "markdown",
   "id": "31cb4707",
   "metadata": {},
   "source": [
    "全是1的矩阵  .ones((行，列))"
   ]
  },
  {
   "cell_type": "code",
   "execution_count": 5,
   "id": "6e35bb3d",
   "metadata": {},
   "outputs": [
    {
     "name": "stdout",
     "output_type": "stream",
     "text": [
      "[[1 1 1 1]\n",
      " [1 1 1 1]\n",
      " [1 1 1 1]]\n",
      "int16\n"
     ]
    }
   ],
   "source": [
    "d = np.ones((3,4),dtype=np.int16)\n",
    "print(d)\n",
    "print(d.dtype)"
   ]
  },
  {
   "cell_type": "markdown",
   "id": "ba12df12",
   "metadata": {},
   "source": [
    "接近0的矩阵 .empty((行,列))"
   ]
  },
  {
   "cell_type": "code",
   "execution_count": 6,
   "id": "b51b0b1b",
   "metadata": {},
   "outputs": [
    {
     "name": "stdout",
     "output_type": "stream",
     "text": [
      "[[0. 0. 0. 0. 0. 0.]\n",
      " [0. 0. 0. 0. 0. 0.]]\n",
      "float64\n"
     ]
    }
   ],
   "source": [
    "empty_zero = np.empty((2,6),dtype=np.float64)\n",
    "print(empty_zero)\n",
    "print(empty_zero.dtype)"
   ]
  },
  {
   "cell_type": "markdown",
   "id": "add2c5fd",
   "metadata": {},
   "source": [
    "指定范围 .arange(起始值,结束值，间隔)         不包含结束值"
   ]
  },
  {
   "cell_type": "code",
   "execution_count": 7,
   "id": "45e1875c",
   "metadata": {},
   "outputs": [
    {
     "name": "stdout",
     "output_type": "stream",
     "text": [
      "[10 13 16 19]\n"
     ]
    }
   ],
   "source": [
    "range_array = np.arange(10,20,3)\n",
    "print(range_array)"
   ]
  },
  {
   "cell_type": "markdown",
   "id": "d0ae8a1e",
   "metadata": {},
   "source": [
    "使用.reshape((行，列)) 给一个1行多列的矩阵，变成目标的行列"
   ]
  },
  {
   "cell_type": "code",
   "execution_count": 8,
   "id": "95255604",
   "metadata": {},
   "outputs": [
    {
     "name": "stdout",
     "output_type": "stream",
     "text": [
      "[[ 8  9 10 11]\n",
      " [12 13 14 15]\n",
      " [16 17 18 19]]\n"
     ]
    }
   ],
   "source": [
    "rang_array1 = np.arange(8,20,1).reshape((3,4))\n",
    "print(rang_array1)"
   ]
  },
  {
   "cell_type": "markdown",
   "id": "b9dc814b",
   "metadata": {},
   "source": [
    "生成等间隔线段 .linspace(起始值，结束值，总段数)"
   ]
  },
  {
   "cell_type": "code",
   "execution_count": null,
   "id": "6a1aa9f2",
   "metadata": {},
   "outputs": [
    {
     "name": "stdout",
     "output_type": "stream",
     "text": [
      "(array([0. , 0.5, 1. , 1.5, 2. , 2.5, 3. , 3.5, 4. , 4.5, 5. , 5.5, 6. ,\n",
      "       6.5, 7. , 7.5, 8. , 8.5, 9. , 9.5]), 0.5)\n",
      "[[ 0.  2.  4.]\n",
      " [ 6.  8. 10.]]\n"
     ]
    }
   ],
   "source": [
    "line_array = np.linspace(0,10,20,endpoint=True,retstep=True,dtype=np.float64)\n",
    "print(line_array)\n",
    "line_array1 = np.linspace(0,10,6).reshape((2,3))\n",
    "print(line_array1)"
   ]
  }
 ],
 "metadata": {
  "kernelspec": {
   "display_name": "base",
   "language": "python",
   "name": "python3"
  },
  "language_info": {
   "codemirror_mode": {
    "name": "ipython",
    "version": 3
   },
   "file_extension": ".py",
   "mimetype": "text/x-python",
   "name": "python",
   "nbconvert_exporter": "python",
   "pygments_lexer": "ipython3",
   "version": "3.12.7"
  }
 },
 "nbformat": 4,
 "nbformat_minor": 5
}
