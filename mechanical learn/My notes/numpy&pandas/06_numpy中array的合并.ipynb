{
 "cells": [
  {
   "cell_type": "code",
   "execution_count": 2,
   "id": "b39b6e3a",
   "metadata": {},
   "outputs": [],
   "source": [
    "import numpy as np"
   ]
  },
  {
   "cell_type": "markdown",
   "id": "fb363642",
   "metadata": {},
   "source": [
    "通过.vstack()上下合并 .hstack()左右合并"
   ]
  },
  {
   "cell_type": "code",
   "execution_count": null,
   "id": "28b56163",
   "metadata": {},
   "outputs": [
    {
     "name": "stdout",
     "output_type": "stream",
     "text": [
      "[[1 1 1]\n",
      " [2 2 2]]\n",
      "(3,) (2, 3)\n",
      "[1 1 1 2 2 2]\n",
      "(6,)\n",
      "[1 1 1]\n"
     ]
    }
   ],
   "source": [
    "A = np.array([1,1,1])\n",
    "B = np.array([2,2,2])\n",
    "C = np.vstack((A,B)) # 上下合并\n",
    "print(C)\n",
    "print(A.shape,C.shape)\n",
    "D = np.hstack((A,B)) # 左右合并\n",
    "print(D)\n",
    "print(np.shape(D))"
   ]
  },
  {
   "cell_type": "markdown",
   "id": "0363e211",
   "metadata": {},
   "source": [
    "横向数列改纵向"
   ]
  },
  {
   "cell_type": "code",
   "execution_count": null,
   "id": "f851ad4e",
   "metadata": {},
   "outputs": [
    {
     "name": "stdout",
     "output_type": "stream",
     "text": [
      "(3,)\n",
      "[1 1 1]\n",
      "[[1]\n",
      " [1]\n",
      " [1]]\n",
      "(3, 1)\n",
      "[[1 1 1]]\n",
      "(1, 3)\n"
     ]
    }
   ],
   "source": [
    "print(A.T.shape) # 发现转置一行，不可以得到转置后的一行多列\n",
    "print(A)\n",
    "print(A[:,np.newaxis])\n",
    "print(A[:,np.newaxis].shape) # 通过.newaxis()加维度\n",
    "print(A[np.newaxis,:])\n",
    "print(A[np.newaxis,:].shape)"
   ]
  },
  {
   "cell_type": "code",
   "execution_count": 16,
   "id": "9f0a68b5",
   "metadata": {},
   "outputs": [
    {
     "name": "stdout",
     "output_type": "stream",
     "text": [
      "[[[1]\n",
      "  [2]]\n",
      "\n",
      " [[1]\n",
      "  [2]]\n",
      "\n",
      " [[1]\n",
      "  [2]]]\n",
      "[[[1]]\n",
      "\n",
      " [[1]]\n",
      "\n",
      " [[1]]\n",
      "\n",
      " [[2]]\n",
      "\n",
      " [[2]]\n",
      "\n",
      " [[2]]]\n"
     ]
    }
   ],
   "source": [
    "A = A[:,np.newaxis]\n",
    "B = B[:,np.newaxis]\n",
    "C = np.hstack((A,B))\n",
    "D = np.vstack((A,B))\n",
    "print(C)\n",
    "print(D)"
   ]
  },
  {
   "cell_type": "code",
   "execution_count": 19,
   "id": "837d17ae",
   "metadata": {},
   "outputs": [
    {
     "name": "stdout",
     "output_type": "stream",
     "text": [
      "[[[1]\n",
      "  [2]\n",
      "  [1]\n",
      "  [1]\n",
      "  [1]]\n",
      "\n",
      " [[1]\n",
      "  [2]\n",
      "  [1]\n",
      "  [1]\n",
      "  [1]]\n",
      "\n",
      " [[1]\n",
      "  [2]\n",
      "  [1]\n",
      "  [1]\n",
      "  [1]]]\n"
     ]
    }
   ],
   "source": [
    "C = np.concatenate((A,B,A,A,A),axis = 1) # 多个array合并，axis = 0/1可以控制在行还是列进行合并\n",
    "print(C)"
   ]
  }
 ],
 "metadata": {
  "kernelspec": {
   "display_name": "base",
   "language": "python",
   "name": "python3"
  },
  "language_info": {
   "codemirror_mode": {
    "name": "ipython",
    "version": 3
   },
   "file_extension": ".py",
   "mimetype": "text/x-python",
   "name": "python",
   "nbconvert_exporter": "python",
   "pygments_lexer": "ipython3",
   "version": "3.12.7"
  }
 },
 "nbformat": 4,
 "nbformat_minor": 5
}
