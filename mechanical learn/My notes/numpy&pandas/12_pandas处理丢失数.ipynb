{
 "cells": [
  {
   "cell_type": "code",
   "execution_count": 12,
   "id": "7db5e785",
   "metadata": {},
   "outputs": [],
   "source": [
    "import numpy as np\n",
    "import pandas as pd"
   ]
  },
  {
   "cell_type": "code",
   "execution_count": 13,
   "id": "8905486a",
   "metadata": {},
   "outputs": [
    {
     "name": "stdout",
     "output_type": "stream",
     "text": [
      "             A   B   C   D\n",
      "2025-04-01   0   1   2   3\n",
      "2025-04-02   4   5   6   7\n",
      "2025-04-03   8   9  10  11\n",
      "2025-04-04  12  13  14  15\n",
      "2025-04-05  16  17  18  19\n",
      "2025-04-06  20  21  22  23\n"
     ]
    }
   ],
   "source": [
    "dates = pd.date_range(\"20250401\",periods=6)\n",
    "df = pd.DataFrame(np.arange(24).reshape((6,4)),index = dates,columns=['A','B','C','D'])\n",
    "print(df)"
   ]
  },
  {
   "cell_type": "code",
   "execution_count": 14,
   "id": "8afe5a81",
   "metadata": {},
   "outputs": [
    {
     "name": "stdout",
     "output_type": "stream",
     "text": [
      "             A     B     C   D\n",
      "2025-04-01   0   NaN   2.0   3\n",
      "2025-04-02   4   5.0   NaN   7\n",
      "2025-04-03   8   9.0  10.0  11\n",
      "2025-04-04  12  13.0  14.0  15\n",
      "2025-04-05  16  17.0  18.0  19\n",
      "2025-04-06  20  21.0  22.0  23\n"
     ]
    }
   ],
   "source": [
    "df.iloc[0,1] = np.nan\n",
    "df.iloc[1,2] = np.nan\n",
    "print(df)"
   ]
  },
  {
   "cell_type": "markdown",
   "id": "ce66f852",
   "metadata": {},
   "source": [
    "1 通过.dropna()处理丢失数据"
   ]
  },
  {
   "cell_type": "code",
   "execution_count": 15,
   "id": "dca5972c",
   "metadata": {},
   "outputs": [
    {
     "name": "stdout",
     "output_type": "stream",
     "text": [
      "             A     B     C   D\n",
      "2025-04-03   8   9.0  10.0  11\n",
      "2025-04-04  12  13.0  14.0  15\n",
      "2025-04-05  16  17.0  18.0  19\n",
      "2025-04-06  20  21.0  22.0  23\n",
      "             A     B     C   D\n",
      "2025-04-01   0   NaN   2.0   3\n",
      "2025-04-02   4   5.0   NaN   7\n",
      "2025-04-03   8   9.0  10.0  11\n",
      "2025-04-04  12  13.0  14.0  15\n",
      "2025-04-05  16  17.0  18.0  19\n",
      "2025-04-06  20  21.0  22.0  23\n",
      "             A     C   D\n",
      "2025-04-01   0   2.0   3\n",
      "2025-04-02   4   NaN   7\n",
      "2025-04-03   8  10.0  11\n",
      "2025-04-04  12  14.0  15\n",
      "2025-04-05  16  18.0  19\n",
      "2025-04-06  20  22.0  23\n"
     ]
    }
   ],
   "source": [
    "print(df.dropna(axis=0,how='any')) # axis=0为按行舍弃，how='any'表示舍弃方法为只要有一个为nan，就满足\n",
    "print(df.dropna(axis=1,how='all')) # how='all'表示只有对应axis都为nan时，才会舍弃\n",
    "df.iloc[:,1] = np.nan # 将B整列设置为nan\n",
    "print(df.dropna(axis = 1,how='all')) # 可以发现按列和all的方法，舍弃了B整列"
   ]
  },
  {
   "cell_type": "markdown",
   "id": "dd035bb4",
   "metadata": {},
   "source": [
    ".fillna(value) 以value填补nan"
   ]
  },
  {
   "cell_type": "code",
   "execution_count": null,
   "id": "39bd13d4",
   "metadata": {},
   "outputs": [
    {
     "name": "stdout",
     "output_type": "stream",
     "text": [
      "             A    B     C   D\n",
      "2025-04-01   0  1.0   2.0   3\n",
      "2025-04-02   4  1.0   1.0   7\n",
      "2025-04-03   8  1.0  10.0  11\n",
      "2025-04-04  12  1.0  14.0  15\n",
      "2025-04-05  16  1.0  18.0  19\n",
      "2025-04-06  20  1.0  22.0  23\n"
     ]
    }
   ],
   "source": [
    "print(df.fillna(value = 1))"
   ]
  },
  {
   "cell_type": "markdown",
   "id": "f9219c2f",
   "metadata": {},
   "source": [
    ".isnull() 检查是否有数据缺失，返回bool"
   ]
  },
  {
   "cell_type": "code",
   "execution_count": null,
   "id": "8dc48774",
   "metadata": {},
   "outputs": [
    {
     "name": "stdout",
     "output_type": "stream",
     "text": [
      "                A     B      C      D\n",
      "2025-04-01  False  True  False  False\n",
      "2025-04-02  False  True   True  False\n",
      "2025-04-03  False  True  False  False\n",
      "2025-04-04  False  True  False  False\n",
      "2025-04-05  False  True  False  False\n",
      "2025-04-06  False  True  False  False\n",
      "True\n"
     ]
    }
   ],
   "source": [
    "print(df.isnull())\n",
    "print(np.any(df.isnull()) == True) # 当数组特大的时候，可以配合np.any()==True，只要有一个丢失，就返回True"
   ]
  }
 ],
 "metadata": {
  "kernelspec": {
   "display_name": "base",
   "language": "python",
   "name": "python3"
  },
  "language_info": {
   "codemirror_mode": {
    "name": "ipython",
    "version": 3
   },
   "file_extension": ".py",
   "mimetype": "text/x-python",
   "name": "python",
   "nbconvert_exporter": "python",
   "pygments_lexer": "ipython3",
   "version": "3.12.7"
  }
 },
 "nbformat": 4,
 "nbformat_minor": 5
}
