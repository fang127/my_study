{
 "cells": [
  {
   "cell_type": "code",
   "execution_count": 1,
   "id": "264de029",
   "metadata": {},
   "outputs": [],
   "source": [
    "import numpy as np\n",
    "import pandas as pd"
   ]
  },
  {
   "cell_type": "markdown",
   "id": "48f48060",
   "metadata": {},
   "source": [
    "数据读取 .read_文件类型(文件名) "
   ]
  },
  {
   "cell_type": "code",
   "execution_count": null,
   "id": "9f93e09d",
   "metadata": {},
   "outputs": [
    {
     "name": "stdout",
     "output_type": "stream",
     "text": [
      "    Student ID  name   age  gender\n",
      "0         1100  Kelly   22  Female\n",
      "1         1101    Clo   21  Female\n",
      "2         1102  Tilly   22  Female\n",
      "3         1103   Tony   24    Male\n",
      "4         1104  David   20    Male\n",
      "5         1105  Catty   22  Female\n",
      "6         1106      M    3  Female\n",
      "7         1107      N   43    Male\n",
      "8         1108      A   13    Male\n",
      "9         1109      S   12    Male\n",
      "10        1110  David   33    Male\n",
      "11        1111     Dw    3  Female\n",
      "12        1112      Q   23    Male\n",
      "13        1113      W   21  Female\n",
      "Student ID     int64\n",
      "name          object\n",
      "age            int64\n",
      "gender        object\n",
      "dtype: object\n"
     ]
    }
   ],
   "source": [
    "ata = pd.read_csv(r'D:\\mechanical learn\\numpy&pandas\\15_read_to\\student.csv')\n",
    "print(ata)\n",
    "print(ata.dtypes)"
   ]
  },
  {
   "cell_type": "markdown",
   "id": "68c3f64d",
   "metadata": {},
   "source": [
    "数据存取 to_文件类型(文件名)"
   ]
  },
  {
   "cell_type": "code",
   "execution_count": 13,
   "id": "d0de84e6",
   "metadata": {},
   "outputs": [],
   "source": [
    "ata.to_pickle('student.pickel')\n",
    "ata.to_csv(\"student1.csv\")"
   ]
  }
 ],
 "metadata": {
  "kernelspec": {
   "display_name": "base",
   "language": "python",
   "name": "python3"
  },
  "language_info": {
   "codemirror_mode": {
    "name": "ipython",
    "version": 3
   },
   "file_extension": ".py",
   "mimetype": "text/x-python",
   "name": "python",
   "nbconvert_exporter": "python",
   "pygments_lexer": "ipython3",
   "version": "3.12.7"
  }
 },
 "nbformat": 4,
 "nbformat_minor": 5
}
