{
 "cells": [
  {
   "cell_type": "code",
   "execution_count": 2,
   "id": "8df6d33d",
   "metadata": {},
   "outputs": [],
   "source": [
    "import numpy as np"
   ]
  },
  {
   "cell_type": "code",
   "execution_count": 3,
   "id": "0bf4ef97",
   "metadata": {},
   "outputs": [],
   "source": [
    "a = np.array([0,1,2,3])"
   ]
  },
  {
   "cell_type": "markdown",
   "id": "95536a42",
   "metadata": {},
   "source": [
    "\n",
    "= 进行赋值时，类似C++引用 指向同一块内存地址"
   ]
  },
  {
   "cell_type": "code",
   "execution_count": 4,
   "id": "91aace2f",
   "metadata": {},
   "outputs": [
    {
     "name": "stdout",
     "output_type": "stream",
     "text": [
      "[11  1  2  3]\n",
      "[11  1  2  3]\n",
      "[11  1  2  3]\n",
      "[11  1  2  3]\n",
      "True\n",
      "True\n",
      "True\n",
      "[11 22 33  3]\n",
      "[11 22 33  3]\n",
      "[11 22 33  3]\n",
      "[11 22 33  3]\n"
     ]
    }
   ],
   "source": [
    "b = a\n",
    "c = a\n",
    "d = b\n",
    "a[0] = 11\n",
    "print(a)\n",
    "print(b)\n",
    "print(c)\n",
    "print(d)\n",
    "print(b is a)\n",
    "print(c is a)\n",
    "print(d is a)\n",
    "d[1:3] = [22,33]\n",
    "print(a)\n",
    "print(b)\n",
    "print(c)\n",
    "print(d)"
   ]
  },
  {
   "cell_type": "markdown",
   "id": "c45b72c2",
   "metadata": {},
   "source": [
    ".copy() 赋值，会得到另一个数组，这两个数组内存地址不同"
   ]
  },
  {
   "cell_type": "code",
   "execution_count": 5,
   "id": "45a3aa8c",
   "metadata": {},
   "outputs": [
    {
     "name": "stdout",
     "output_type": "stream",
     "text": [
      "[11 22 33  3]\n",
      "False\n"
     ]
    }
   ],
   "source": [
    "b = np.copy(a)\n",
    "print(b)\n",
    "print(a is b)"
   ]
  }
 ],
 "metadata": {
  "kernelspec": {
   "display_name": "base",
   "language": "python",
   "name": "python3"
  },
  "language_info": {
   "codemirror_mode": {
    "name": "ipython",
    "version": 3
   },
   "file_extension": ".py",
   "mimetype": "text/x-python",
   "name": "python",
   "nbconvert_exporter": "python",
   "pygments_lexer": "ipython3",
   "version": "3.12.7"
  }
 },
 "nbformat": 4,
 "nbformat_minor": 5
}
