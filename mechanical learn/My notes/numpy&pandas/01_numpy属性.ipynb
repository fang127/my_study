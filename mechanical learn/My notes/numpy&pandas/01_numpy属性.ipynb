{
 "cells": [
  {
   "cell_type": "markdown",
   "id": "b3c01dba",
   "metadata": {},
   "source": [
    "01 numpy属性"
   ]
  },
  {
   "cell_type": "markdown",
   "id": "fd02a55e",
   "metadata": {},
   "source": [
    "np简写numpy"
   ]
  },
  {
   "cell_type": "code",
   "execution_count": 9,
   "id": "269db13a",
   "metadata": {},
   "outputs": [],
   "source": [
    "import numpy as np"
   ]
  },
  {
   "cell_type": "markdown",
   "id": "4c3e56a0",
   "metadata": {},
   "source": [
    "矩阵 "
   ]
  },
  {
   "cell_type": "code",
   "execution_count": 16,
   "id": "c81efae7",
   "metadata": {},
   "outputs": [
    {
     "name": "stdout",
     "output_type": "stream",
     "text": [
      "[[1 2 3]\n",
      " [2 3 4]]\n",
      "number of dim:2\n",
      "shape:(2, 3)\n",
      "size:6\n"
     ]
    }
   ],
   "source": [
    "a = np.array([[1,2,3],[2,3,4]]) # 把python中的列表转换为矩阵\n",
    "print(a)\n",
    "print(f'number of dim:{a.ndim}') # 数组维度\n",
    "print(f\"shape:{a.shape}\") # 行和列\n",
    "print(f\"size:{a.size}\")"
   ]
  }
 ],
 "metadata": {
  "kernelspec": {
   "display_name": "base",
   "language": "python",
   "name": "python3"
  },
  "language_info": {
   "codemirror_mode": {
    "name": "ipython",
    "version": 3
   },
   "file_extension": ".py",
   "mimetype": "text/x-python",
   "name": "python",
   "nbconvert_exporter": "python",
   "pygments_lexer": "ipython3",
   "version": "3.12.7"
  }
 },
 "nbformat": 4,
 "nbformat_minor": 5
}
