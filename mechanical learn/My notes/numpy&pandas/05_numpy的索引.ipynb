{
 "cells": [
  {
   "cell_type": "code",
   "execution_count": 15,
   "id": "acd84ec9",
   "metadata": {},
   "outputs": [],
   "source": [
    "import numpy as np"
   ]
  },
  {
   "cell_type": "markdown",
   "id": "20769ee9",
   "metadata": {},
   "source": [
    "通过[]索引"
   ]
  },
  {
   "cell_type": "code",
   "execution_count": 16,
   "id": "5f8586b2",
   "metadata": {},
   "outputs": [
    {
     "name": "stdout",
     "output_type": "stream",
     "text": [
      "[ 3  4  5  6  7  8  9 10 11 12 13 14]\n",
      "6\n",
      "[[ 3  4  5  6]\n",
      " [ 7  8  9 10]\n",
      " [11 12 13 14]]\n",
      "6\n",
      "6\n",
      "9\n",
      "9\n",
      "[11 12 13 14]\n",
      "[8 9]\n"
     ]
    }
   ],
   "source": [
    "A = np.arange(3,15)\n",
    "print(A)\n",
    "print(A[3])\n",
    "A = A.reshape(3,4)\n",
    "print(A)\n",
    "print(A[0][3]) \n",
    "print(A[0,3])\n",
    "print(A[1][2])\n",
    "print(A[1,2])\n",
    "print(A[2,:]) # ：代表行或列所有 \n",
    "print(A[1,1:3]) # 切片"
   ]
  },
  {
   "cell_type": "markdown",
   "id": "3994bf0d",
   "metadata": {},
   "source": [
    "for循环"
   ]
  },
  {
   "cell_type": "code",
   "execution_count": null,
   "id": "5ebdcdde",
   "metadata": {},
   "outputs": [
    {
     "name": "stdout",
     "output_type": "stream",
     "text": [
      "[3 4 5 6]\n",
      "[ 7  8  9 10]\n",
      "[11 12 13 14]\n"
     ]
    }
   ],
   "source": [
    "for row in A: # 打印每一行\n",
    "    print(row)"
   ]
  },
  {
   "cell_type": "code",
   "execution_count": null,
   "id": "e9f36f27",
   "metadata": {},
   "outputs": [
    {
     "name": "stdout",
     "output_type": "stream",
     "text": [
      "[ 3  7 11]\n",
      "[ 4  8 12]\n",
      "[ 5  9 13]\n",
      "[ 6 10 14]\n"
     ]
    }
   ],
   "source": [
    "for column in A.T: # 通过转置，然后迭代每一行，可以得到每列\n",
    "    print(column)"
   ]
  },
  {
   "cell_type": "code",
   "execution_count": null,
   "id": "6b68bbf0",
   "metadata": {},
   "outputs": [
    {
     "name": "stdout",
     "output_type": "stream",
     "text": [
      "[ 3  4  5  6  7  8  9 10 11 12 13 14]\n",
      "3\n",
      "4\n",
      "5\n",
      "6\n",
      "7\n",
      "8\n",
      "9\n",
      "10\n",
      "11\n",
      "12\n",
      "13\n",
      "14\n"
     ]
    }
   ],
   "source": [
    "print(A.flatten()) # 返回只有一行多列的矩阵\n",
    "for item in A.flat: # 返回每一个元素\n",
    "    print(item) "
   ]
  }
 ],
 "metadata": {
  "kernelspec": {
   "display_name": "base",
   "language": "python",
   "name": "python3"
  },
  "language_info": {
   "codemirror_mode": {
    "name": "ipython",
    "version": 3
   },
   "file_extension": ".py",
   "mimetype": "text/x-python",
   "name": "python",
   "nbconvert_exporter": "python",
   "pygments_lexer": "ipython3",
   "version": "3.12.7"
  }
 },
 "nbformat": 4,
 "nbformat_minor": 5
}
