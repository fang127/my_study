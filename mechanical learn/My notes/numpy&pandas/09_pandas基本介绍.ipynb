{
 "cells": [
  {
   "cell_type": "code",
   "execution_count": 1,
   "id": "180cb737",
   "metadata": {},
   "outputs": [],
   "source": [
    "import pandas as pd\n",
    "import numpy as np"
   ]
  },
  {
   "cell_type": "markdown",
   "id": "6685c9f8",
   "metadata": {},
   "source": [
    "numpy像列表，pandas像字典"
   ]
  },
  {
   "cell_type": "markdown",
   "id": "342e1efa",
   "metadata": {},
   "source": [
    "可以对pandas中的每一行或列进行命名"
   ]
  },
  {
   "cell_type": "code",
   "execution_count": 2,
   "id": "fe301a8b",
   "metadata": {},
   "outputs": [
    {
     "name": "stdout",
     "output_type": "stream",
     "text": [
      "0     1.0\n",
      "1     3.0\n",
      "2     6.0\n",
      "3     NaN\n",
      "4    44.0\n",
      "5     1.0\n",
      "dtype: float64\n",
      "DatetimeIndex(['2016-01-01', '2016-01-02', '2016-01-03', '2016-01-04',\n",
      "               '2016-01-05', '2016-01-06'],\n",
      "              dtype='datetime64[ns]', freq='D')\n"
     ]
    }
   ],
   "source": [
    "s = pd.Series([1,3,6,np.nan,44,1]) # np.nan表示缺失值（类似 None，但专用于数值计算）\n",
    "print(s) # Series会自动索引，生成0+的整数索引\n",
    "dates = pd.date_range('20160101',periods=6) # 第一个实参为起始日期（可接收多种字符串格式），第二个为生成的时间点数量，第三个为时间间隔（未指定时默认按天）\n",
    "print(dates)"
   ]
  },
  {
   "cell_type": "markdown",
   "id": "24c17da7",
   "metadata": {},
   "source": [
    "pandas创建二维表格数据结构"
   ]
  },
  {
   "cell_type": "code",
   "execution_count": 33,
   "id": "11c6522b",
   "metadata": {},
   "outputs": [
    {
     "name": "stdout",
     "output_type": "stream",
     "text": [
      "                   a         b         c         d\n",
      "2016-01-01 -0.474861  0.964095 -0.914845 -1.487305\n",
      "2016-01-02 -0.823560 -1.219215  1.646088 -0.835953\n",
      "2016-01-03  2.440656  1.455714  1.179627 -1.388561\n",
      "2016-01-04  0.366174  0.960448  0.156075  0.127381\n",
      "2016-01-05  0.400220 -0.798705 -0.013123  0.843766\n",
      "2016-01-06 -0.930185  1.133859  0.247665  0.338545\n"
     ]
    }
   ],
   "source": [
    "# np.random.randn(6,4)\t生成6行4列的标准正态分布随机数矩阵\n",
    "# index为行名称 columns为列名称\n",
    "df = pd.DataFrame(np.random.randn(6,4),index=dates,columns=['a','b','c','d'])\n",
    "print(df)"
   ]
  },
  {
   "cell_type": "code",
   "execution_count": null,
   "id": "5ca1345c",
   "metadata": {},
   "outputs": [
    {
     "name": "stdout",
     "output_type": "stream",
     "text": [
      "   0  1   2   3\n",
      "0  0  1   2   3\n",
      "1  4  5   6   7\n",
      "2  8  9  10  11\n",
      "     A          B    C  D      E    F\n",
      "0  1.0 2025-04-01  1.0  3   test  foo\n",
      "1  1.0 2025-04-01  1.0  3  train  foo\n",
      "2  1.0 2025-04-01  1.0  3   test  foo\n",
      "3  1.0 2025-04-01  1.0  3  train  foo\n",
      "A          float64\n",
      "B    datetime64[s]\n",
      "C          float32\n",
      "D            int32\n",
      "E         category\n",
      "F           object\n",
      "dtype: object\n",
      "Index([0, 1, 2, 3], dtype='int64')\n",
      "Index(['A', 'B', 'C', 'D', 'E', 'F'], dtype='object')\n",
      "[[1.0 Timestamp('2025-04-01 00:00:00') 1.0 3 'test' 'foo']\n",
      " [1.0 Timestamp('2025-04-01 00:00:00') 1.0 3 'train' 'foo']\n",
      " [1.0 Timestamp('2025-04-01 00:00:00') 1.0 3 'test' 'foo']\n",
      " [1.0 Timestamp('2025-04-01 00:00:00') 1.0 3 'train' 'foo']]\n",
      "         A                    B    C    D\n",
      "count  4.0                    4  4.0  4.0\n",
      "mean   1.0  2025-04-01 00:00:00  1.0  3.0\n",
      "min    1.0  2025-04-01 00:00:00  1.0  3.0\n",
      "25%    1.0  2025-04-01 00:00:00  1.0  3.0\n",
      "50%    1.0  2025-04-01 00:00:00  1.0  3.0\n",
      "75%    1.0  2025-04-01 00:00:00  1.0  3.0\n",
      "max    1.0  2025-04-01 00:00:00  1.0  3.0\n",
      "std    0.0                  NaN  0.0  0.0\n",
      "     F      E  D    C          B    A\n",
      "0  foo   test  3  1.0 2025-04-01  1.0\n",
      "1  foo  train  3  1.0 2025-04-01  1.0\n",
      "2  foo   test  3  1.0 2025-04-01  1.0\n",
      "3  foo  train  3  1.0 2025-04-01  1.0\n",
      "     A          B    C  D      E    F\n",
      "3  1.0 2025-04-01  1.0  3  train  foo\n",
      "2  1.0 2025-04-01  1.0  3   test  foo\n",
      "1  1.0 2025-04-01  1.0  3  train  foo\n",
      "0  1.0 2025-04-01  1.0  3   test  foo\n"
     ]
    }
   ],
   "source": [
    "df1 = pd.DataFrame(np.arange(12).reshape((3,4))) # 当没有指定行和列的名称时，会自动化生成0+的名称\n",
    "print(df1)\n",
    "df2 = pd.DataFrame({'A':1.,\n",
    "                    'B':pd.Timestamp('20250401'),\n",
    "                    'C':pd.Series(1,index=list(range(4)),dtype='float32'),\n",
    "                    'D':np.array([3]*4,dtype='int32'),\n",
    "                    'E':pd.Categorical(['test','train','test','train']),\n",
    "                    'F':'foo'})\n",
    "print(df2)\n",
    "print(df2.dtypes)\n",
    "print(df2.index)\n",
    "print(df2.columns)\n",
    "print(df2.values)\n",
    "print(df2.describe()) # .describe()可以求出均值、标准差等数值"
   ]
  },
  {
   "cell_type": "code",
   "execution_count": 6,
   "id": "e6133259",
   "metadata": {},
   "outputs": [
    {
     "name": "stdout",
     "output_type": "stream",
     "text": [
      "     F      E  D    C          B    A\n",
      "0  foo   test  3  1.0 2025-04-01  1.0\n",
      "1  foo  train  3  1.0 2025-04-01  1.0\n",
      "2  foo   test  3  1.0 2025-04-01  1.0\n",
      "3  foo  train  3  1.0 2025-04-01  1.0\n",
      "     A          B    C  D      E    F\n",
      "3  1.0 2025-04-01  1.0  3  train  foo\n",
      "2  1.0 2025-04-01  1.0  3   test  foo\n",
      "1  1.0 2025-04-01  1.0  3  train  foo\n",
      "0  1.0 2025-04-01  1.0  3   test  foo\n"
     ]
    }
   ],
   "source": [
    "print(df2.sort_index(axis=1,ascending=False)) # 按行或列进行排序\n",
    "print(df2.sort_index(axis=0,ascending=False))"
   ]
  },
  {
   "cell_type": "code",
   "execution_count": 4,
   "id": "caa6e0a8",
   "metadata": {},
   "outputs": [
    {
     "name": "stdout",
     "output_type": "stream",
     "text": [
      "          0         1         2         3\n",
      "0  0.121325 -0.526811  0.906181  0.265902\n",
      "1  1.587085 -0.622204  1.424459 -1.309943\n",
      "2  0.541952  0.190201 -0.173262 -0.652162\n",
      "              0         1         2         3\n",
      "count  3.000000  3.000000  3.000000  3.000000\n",
      "mean   0.750121 -0.319605  0.719126 -0.565401\n",
      "std    0.754728  0.444073  0.815120  0.791497\n",
      "min    0.121325 -0.622204 -0.173262 -1.309943\n",
      "25%    0.331639 -0.574507  0.366460 -0.981052\n",
      "50%    0.541952 -0.526811  0.906181 -0.652162\n",
      "75%    1.064519 -0.168305  1.165320 -0.193130\n",
      "max    1.587085  0.190201  1.424459  0.265902\n",
      "          0         1         2\n",
      "0  0.121325  1.587085  0.541952\n",
      "1 -0.526811 -0.622204  0.190201\n",
      "2  0.906181  1.424459 -0.173262\n",
      "3  0.265902 -1.309943 -0.652162\n",
      "          0         1         2         3\n",
      "2  0.541952  0.190201 -0.173262 -0.652162\n",
      "1  1.587085 -0.622204  1.424459 -1.309943\n",
      "0  0.121325 -0.526811  0.906181  0.265902\n",
      "          3         2         1         0\n",
      "0  0.265902  0.906181 -0.526811  0.121325\n",
      "1 -1.309943  1.424459 -0.622204  1.587085\n",
      "2 -0.652162 -0.173262  0.190201  0.541952\n"
     ]
    }
   ],
   "source": [
    "df3 = pd.DataFrame(np.random.normal(0,1,12).reshape((3,4)))\n",
    "print(df3)\n",
    "print(df3.describe())\n",
    "print(df3.T)\n",
    "print(df3.sort_index(axis = 0,ascending=False))\n",
    "print(df3.sort_index(axis = 1,ascending=False))\n"
   ]
  },
  {
   "cell_type": "code",
   "execution_count": 7,
   "id": "cd7d792d",
   "metadata": {},
   "outputs": [
    {
     "name": "stdout",
     "output_type": "stream",
     "text": [
      "     A          B    C  D      E    F\n",
      "0  1.0 2025-04-01  1.0  3   test  foo\n",
      "2  1.0 2025-04-01  1.0  3   test  foo\n",
      "1  1.0 2025-04-01  1.0  3  train  foo\n",
      "3  1.0 2025-04-01  1.0  3  train  foo\n"
     ]
    }
   ],
   "source": [
    "print(df2.sort_values(by='E'))"
   ]
  }
 ],
 "metadata": {
  "kernelspec": {
   "display_name": "base",
   "language": "python",
   "name": "python3"
  },
  "language_info": {
   "codemirror_mode": {
    "name": "ipython",
    "version": 3
   },
   "file_extension": ".py",
   "mimetype": "text/x-python",
   "name": "python",
   "nbconvert_exporter": "python",
   "pygments_lexer": "ipython3",
   "version": "3.12.7"
  }
 },
 "nbformat": 4,
 "nbformat_minor": 5
}
