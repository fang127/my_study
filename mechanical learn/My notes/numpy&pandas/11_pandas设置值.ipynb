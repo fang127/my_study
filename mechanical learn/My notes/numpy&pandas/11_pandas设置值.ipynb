{
 "cells": [
  {
   "cell_type": "code",
   "execution_count": 2,
   "id": "ec4b7cda",
   "metadata": {},
   "outputs": [],
   "source": [
    "import numpy as np\n",
    "import pandas as pd"
   ]
  },
  {
   "cell_type": "code",
   "execution_count": 3,
   "id": "5ef2454a",
   "metadata": {},
   "outputs": [
    {
     "name": "stdout",
     "output_type": "stream",
     "text": [
      "             A   B   C   D\n",
      "2025-04-01   0   1   2   3\n",
      "2025-04-02   4   5   6   7\n",
      "2025-04-03   8   9  10  11\n",
      "2025-04-04  12  13  14  15\n",
      "2025-04-05  16  17  18  19\n",
      "2025-04-06  20  21  22  23\n"
     ]
    }
   ],
   "source": [
    "dates = pd.date_range('20250401',periods=6)\n",
    "df = pd.DataFrame(np.arange(24).reshape((6,4)),index = dates,columns = ['A','B','C','D'])\n",
    "print(df)"
   ]
  },
  {
   "cell_type": "code",
   "execution_count": 4,
   "id": "53383f53",
   "metadata": {},
   "outputs": [
    {
     "name": "stdout",
     "output_type": "stream",
     "text": [
      "               A  B     C  D\n",
      "2025-04-01  2222  1  1111  3\n",
      "2025-04-02     0  0     0  0\n",
      "2025-04-03     0  0     0  0\n",
      "2025-04-04     0  0     0  0\n",
      "2025-04-05     0  0     0  0\n",
      "2025-04-06     0  0     0  0\n"
     ]
    }
   ],
   "source": [
    "df.iloc[0,2] = 1111\n",
    "df.loc['20250401','A'] = 2222\n",
    "df[df['B'] > 4] = 0\n",
    "# df['B'][df['A'] == 0] = 1\n",
    "print(df)"
   ]
  },
  {
   "cell_type": "code",
   "execution_count": 8,
   "id": "f6d4e40b",
   "metadata": {},
   "outputs": [
    {
     "name": "stdout",
     "output_type": "stream",
     "text": [
      "               A  B     C  D   F  E\n",
      "2025-04-01  2222  1  1111  3 NaN  1\n",
      "2025-04-02     0  0     0  0 NaN  2\n",
      "2025-04-03     0  0     0  0 NaN  3\n",
      "2025-04-04     0  0     0  0 NaN  4\n",
      "2025-04-05     0  0     0  0 NaN  5\n",
      "2025-04-06     0  0     0  0 NaN  6\n"
     ]
    }
   ],
   "source": [
    "df[\"F\"] = np.nan\n",
    "df['E'] = pd.Series([1,2,3,4,5,6],index = pd.date_range('20250401',periods = 6))# 注意index要和添加进去的标签一致，不一致则不会加进去\n",
    "print(df)"
   ]
  }
 ],
 "metadata": {
  "kernelspec": {
   "display_name": "base",
   "language": "python",
   "name": "python3"
  },
  "language_info": {
   "codemirror_mode": {
    "name": "ipython",
    "version": 3
   },
   "file_extension": ".py",
   "mimetype": "text/x-python",
   "name": "python",
   "nbconvert_exporter": "python",
   "pygments_lexer": "ipython3",
   "version": "3.12.7"
  }
 },
 "nbformat": 4,
 "nbformat_minor": 5
}
