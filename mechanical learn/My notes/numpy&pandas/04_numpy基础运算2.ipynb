{
 "cells": [
  {
   "cell_type": "code",
   "execution_count": 1,
   "id": "a81d720a",
   "metadata": {},
   "outputs": [],
   "source": [
    "import numpy as np"
   ]
  },
  {
   "cell_type": "code",
   "execution_count": 2,
   "id": "e9a6e325",
   "metadata": {},
   "outputs": [
    {
     "name": "stdout",
     "output_type": "stream",
     "text": [
      "[[15 14 13 12]\n",
      " [11 10  9  8]\n",
      " [ 7  6  5  4]\n",
      " [ 3  2  1  0]]\n"
     ]
    }
   ],
   "source": [
    "A = np.arange(15,-1,-1).reshape((4,4))\n",
    "print(A)"
   ]
  },
  {
   "cell_type": "code",
   "execution_count": 7,
   "id": "1077d447",
   "metadata": {},
   "outputs": [
    {
     "name": "stdout",
     "output_type": "stream",
     "text": [
      "15\n",
      "0\n",
      "7.5\n",
      "7.5\n",
      "7.5\n",
      "[ 15  29  42  54  65  75  84  92  99 105 110 114 117 119 120 120]\n",
      "[[-1 -1 -1]\n",
      " [-1 -1 -1]\n",
      " [-1 -1 -1]\n",
      " [-1 -1 -1]]\n",
      "(array([0, 0, 0, 0, 1, 1, 1, 1, 2, 2, 2, 2, 3, 3, 3], dtype=int64), array([0, 1, 2, 3, 0, 1, 2, 3, 0, 1, 2, 3, 0, 1, 2], dtype=int64))\n",
      "[[12 13 14 15]\n",
      " [ 8  9 10 11]\n",
      " [ 4  5  6  7]\n",
      " [ 0  1  2  3]]\n",
      "[[15 11  7  3]\n",
      " [14 10  6  2]\n",
      " [13  9  5  1]\n",
      " [12  8  4  0]]\n",
      "[[15 11  7  3]\n",
      " [14 10  6  2]\n",
      " [13  9  5  1]\n",
      " [12  8  4  0]]\n",
      "[[404 368 332 296]\n",
      " [368 336 304 272]\n",
      " [332 304 276 248]\n",
      " [296 272 248 224]]\n",
      "[[9 9 9 9]\n",
      " [9 9 9 8]\n",
      " [7 6 5 5]\n",
      " [5 5 5 5]]\n"
     ]
    }
   ],
   "source": [
    "print(np.argmin(A)) # 最小值索引 注意：第一位为0\n",
    "print(np.argmax(A)) # 最大值索引\n",
    "print(np.mean(A)) # 平均值 numpy中所有的 np.函数(数组) 都可以定义为 数组.函数() 实现的功能一样\n",
    "print(np.average(A)) # 平均值，注意函数只可以np.average(数组) average支持加权平均值计算\n",
    "print(np.median(A)) # 中位数\n",
    "print(A.cumsum()) # 累加 元素i = i之前所有元素之和加原数组i位置元素\n",
    "print(np.diff(A)) # 累差 每一行下一个元素与上一个元素的差值\n",
    "print(np.nonzero(A)) # 显示非0的数的位置，输出每一个元素的行数和列数\n",
    "print(np.sort(A)) # 每一行进行排序\n",
    "print(np.transpose(A)) # 矩阵转置\n",
    "print(A.T) # 同上T即为transpose()\n",
    "print((A.T).dot(A))\n",
    "print(np.clip(A,5,9)) # 滤波   即所有大于9的数变成9，小于5变成5"
   ]
  },
  {
   "cell_type": "markdown",
   "id": "64154537",
   "metadata": {},
   "source": [
    "注意 上述这些求具体数值的函数都可以加axis = 0/1的实参，来进行行或者列的操作"
   ]
  }
 ],
 "metadata": {
  "kernelspec": {
   "display_name": "base",
   "language": "python",
   "name": "python3"
  },
  "language_info": {
   "codemirror_mode": {
    "name": "ipython",
    "version": 3
   },
   "file_extension": ".py",
   "mimetype": "text/x-python",
   "name": "python",
   "nbconvert_exporter": "python",
   "pygments_lexer": "ipython3",
   "version": "3.12.7"
  }
 },
 "nbformat": 4,
 "nbformat_minor": 5
}
