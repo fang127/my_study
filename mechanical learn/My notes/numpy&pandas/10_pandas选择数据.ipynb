{
 "cells": [
  {
   "cell_type": "code",
   "execution_count": 2,
   "id": "65418e65",
   "metadata": {},
   "outputs": [],
   "source": [
    "import numpy as np\n",
    "import pandas as pd"
   ]
  },
  {
   "cell_type": "code",
   "execution_count": 29,
   "id": "cf9ae980",
   "metadata": {},
   "outputs": [
    {
     "name": "stdout",
     "output_type": "stream",
     "text": [
      "             A   B   C   D\n",
      "2025-04-01   0   1   2   3\n",
      "2025-04-02   4   5   6   7\n",
      "2025-04-03   8   9  10  11\n",
      "2025-04-04  12  13  14  15\n",
      "2025-04-05  16  17  18  19\n",
      "2025-04-06  20  21  22  23\n",
      "2025-04-01     0\n",
      "2025-04-02     4\n",
      "2025-04-03     8\n",
      "2025-04-04    12\n",
      "2025-04-05    16\n",
      "2025-04-06    20\n",
      "Freq: D, Name: A, dtype: int32\n",
      "2025-04-01     0\n",
      "2025-04-02     4\n",
      "2025-04-03     8\n",
      "2025-04-04    12\n",
      "2025-04-05    16\n",
      "2025-04-06    20\n",
      "Freq: D, Name: A, dtype: int32\n",
      "            A  B   C   D\n",
      "2025-04-01  0  1   2   3\n",
      "2025-04-02  4  5   6   7\n",
      "2025-04-03  8  9  10  11              A   B   C   D\n",
      "2025-04-01   0   1   2   3\n",
      "2025-04-02   4   5   6   7\n",
      "2025-04-03   8   9  10  11\n",
      "2025-04-04  12  13  14  15\n"
     ]
    }
   ],
   "source": [
    "dates = pd.date_range('20250401',periods=6)\n",
    "df = pd.DataFrame(np.arange(24).reshape((6,4)),index = dates,columns = ['A','B','C','D'])\n",
    "print(df)\n",
    "print(df['A'])\n",
    "print(df.A) # df.A和df[\"A\"]作用一样\n",
    "print(df[0:3],df['20250401':'20250404'])"
   ]
  },
  {
   "cell_type": "markdown",
   "id": "3422febf",
   "metadata": {},
   "source": [
    "使用标签进行选择 .loc[标签]"
   ]
  },
  {
   "cell_type": "code",
   "execution_count": 33,
   "id": "c457952d",
   "metadata": {},
   "outputs": [
    {
     "name": "stdout",
     "output_type": "stream",
     "text": [
      "A    4\n",
      "B    5\n",
      "C    6\n",
      "D    7\n",
      "Name: 2025-04-02 00:00:00, dtype: int32\n"
     ]
    }
   ],
   "source": [
    "print(df.loc['20250402']) # 按行选择"
   ]
  },
  {
   "cell_type": "code",
   "execution_count": 21,
   "id": "a4df84e8",
   "metadata": {},
   "outputs": [
    {
     "name": "stdout",
     "output_type": "stream",
     "text": [
      "            A  B\n",
      "2025-04-01  0  1\n",
      "2025-04-02  4  5\n",
      "2025-04-03  8  9\n"
     ]
    }
   ],
   "source": [
    "print(df.loc['20250401':'20250403','A':'B']) # 按行列选择"
   ]
  },
  {
   "cell_type": "markdown",
   "id": "8e26573a",
   "metadata": {},
   "source": [
    "按位置选择 .iloc[]"
   ]
  },
  {
   "cell_type": "code",
   "execution_count": 34,
   "id": "8f173f76",
   "metadata": {},
   "outputs": [
    {
     "name": "stdout",
     "output_type": "stream",
     "text": [
      "A    12\n",
      "B    13\n",
      "C    14\n",
      "D    15\n",
      "Name: 2025-04-04 00:00:00, dtype: int32\n",
      "             B   C\n",
      "2025-04-04  13  14\n",
      "2025-04-05  17  18\n",
      "             B   D\n",
      "2025-04-02   5   7\n",
      "2025-04-04  13  15\n",
      "2025-04-06  21  23\n",
      "2025-04-01     1\n",
      "2025-04-02     5\n",
      "2025-04-03     9\n",
      "2025-04-04    13\n",
      "2025-04-05    17\n",
      "2025-04-06    21\n",
      "Freq: D, Name: B, dtype: int32\n"
     ]
    }
   ],
   "source": [
    "print(df.iloc[3])\n",
    "print(df.iloc[3:5,1:3])\n",
    "print(df.iloc[[1,3,5],[1,3]])\n",
    "print(df.iloc[:,1])"
   ]
  },
  {
   "cell_type": "markdown",
   "id": "223f5429",
   "metadata": {},
   "source": [
    "bool选择 按条件选择 名称[区域][条件]  没有区域默认整个区域"
   ]
  },
  {
   "cell_type": "code",
   "execution_count": 35,
   "id": "3edd45d9",
   "metadata": {},
   "outputs": [
    {
     "name": "stdout",
     "output_type": "stream",
     "text": [
      "             A   B   C   D\n",
      "2025-04-04  12  13  14  15\n",
      "2025-04-05  16  17  18  19\n",
      "2025-04-06  20  21  22  23\n",
      "2025-04-05    16\n",
      "2025-04-06    20\n",
      "Freq: D, Name: A, dtype: int32\n"
     ]
    }
   ],
   "source": [
    "print(df[df['A'] > 8])\n",
    "print(df['A'][df['B'] > 15])"
   ]
  }
 ],
 "metadata": {
  "kernelspec": {
   "display_name": "base",
   "language": "python",
   "name": "python3"
  },
  "language_info": {
   "codemirror_mode": {
    "name": "ipython",
    "version": 3
   },
   "file_extension": ".py",
   "mimetype": "text/x-python",
   "name": "python",
   "nbconvert_exporter": "python",
   "pygments_lexer": "ipython3",
   "version": "3.12.7"
  }
 },
 "nbformat": 4,
 "nbformat_minor": 5
}
